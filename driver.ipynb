{
 "cells": [
  {
   "cell_type": "code",
   "execution_count": 2,
   "metadata": {},
   "outputs": [],
   "source": [
    "from random import randint \n",
    "from Advertisement import *"
   ]
  },
  {
   "cell_type": "code",
   "execution_count": 3,
   "metadata": {},
   "outputs": [
    {
     "name": "stdout",
     "output_type": "stream",
     "text": [
      "Wall time: 1min 59s\n"
     ]
    }
   ],
   "source": [
    "%%time\n",
    "Obj=Advertisement()"
   ]
  },
  {
   "cell_type": "code",
   "execution_count": 4,
   "metadata": {},
   "outputs": [
    {
     "data": {
      "text/plain": [
       "9946"
      ]
     },
     "execution_count": 4,
     "metadata": {},
     "output_type": "execute_result"
    }
   ],
   "source": [
    "len(Obj.G.edges)"
   ]
  },
  {
   "cell_type": "code",
   "execution_count": 5,
   "metadata": {},
   "outputs": [
    {
     "data": {
      "text/plain": [
       "3732"
      ]
     },
     "execution_count": 5,
     "metadata": {},
     "output_type": "execute_result"
    }
   ],
   "source": [
    "len(Obj.G.nodes)"
   ]
  },
  {
   "cell_type": "code",
   "execution_count": 3,
   "metadata": {},
   "outputs": [
    {
     "name": "stdout",
     "output_type": "stream",
     "text": [
      "Wall time: 893 ms\n"
     ]
    }
   ],
   "source": [
    "%%time\n",
    "Obj.add_facility(0,3653,0,1,8000)\n",
    "Obj.add_facility(0,3653,0,2,9000)\n",
    "Obj.add_facility(0,3653,0,3,10000)\n",
    "Obj.add_facility(2,115,0,4,8000)\n",
    "Obj.add_facility(2,115,0,5,13000)\n",
    "Obj.add_facility(0,7,0,6,2000)\n",
    "Obj.add_facility(35,2657,0,7,15000)\n",
    "Obj.add_facility(52,51,1,7,3000)\n",
    "Obj.add_facility(69,2239,0,8,20000)\n",
    "Obj.add_facility(0,7,0,9,8000)\n",
    "Obj.add_facility(71,3275,0,10,35000)\n",
    "Obj.add_facility(71,3275,0,11,17000)\n",
    "Obj.add_facility(71,3275,0,12,26000)\n",
    "Obj.add_facility(73,3185,0,13,14000)\n",
    "Obj.add_facility(2334,2333,0,14,12000)\n",
    "Obj.add_facility(1883,1884,0,15,37000)"
   ]
  },
  {
   "cell_type": "code",
   "execution_count": 4,
   "metadata": {},
   "outputs": [
    {
     "name": "stdout",
     "output_type": "stream",
     "text": [
      "2147\n",
      "Wall time: 4min 35s\n"
     ]
    }
   ],
   "source": [
    "%%time\n",
    "facility_id=1\n",
    "for u,v,n in Obj.G.edges:\n",
    "    prob=randint(0,10)\n",
    "    if prob>9:\n",
    "        num=randint(1,6)        \n",
    "        for i in range(1,num):\n",
    "            Radius=randint(5000,40000)\n",
    "            Obj.add_facility(u,v,n,facility_id,Radius)\n",
    "            facility_id+=1\n",
    "print(facility_id)            "
   ]
  },
  {
   "cell_type": "code",
   "execution_count": 5,
   "metadata": {},
   "outputs": [
    {
     "name": "stdout",
     "output_type": "stream",
     "text": [
      "Wall time: 47.6 s\n"
     ]
    }
   ],
   "source": [
    "%%time \n",
    "for u,v,n in Obj.G.edges:\n",
    "    Obj.query(u,v,n)"
   ]
  },
  {
   "cell_type": "code",
   "execution_count": 26,
   "metadata": {},
   "outputs": [
    {
     "name": "stdout",
     "output_type": "stream",
     "text": [
      "287\n"
     ]
    }
   ],
   "source": [
    "count=0\n",
    "for u,v,n in Obj.G.edges:\n",
    "    #if lenObj.G.edges[u,v,n]['relevantR'])>0:\n",
    "    if Obj.G.edges[u,v,n]['Facilities']:\n",
    "        count+=1\n",
    "        #print(u,v,n,Obj.G.edges[u,v,n]['relevantR'])\n",
    "    #print(u,v,n,Obj.G.edges[u,v,n]['relevant'])\n",
    "print(count)    "
   ]
  },
  {
   "cell_type": "code",
   "execution_count": 7,
   "metadata": {},
   "outputs": [
    {
     "name": "stdout",
     "output_type": "stream",
     "text": [
      "Wall time: 43.2 s\n"
     ]
    }
   ],
   "source": [
    "%%time \n",
    "for u,v,n in Obj.G.edges:\n",
    "    radius=randint(5000,40000)\n",
    "    Obj.queryR(u,v,n,radius)\n",
    "    "
   ]
  },
  {
   "cell_type": "code",
   "execution_count": 5,
   "metadata": {},
   "outputs": [],
   "source": [
    "Obj.delete_facility(0,3653,0,2)\n"
   ]
  },
  {
   "cell_type": "code",
   "execution_count": null,
   "metadata": {},
   "outputs": [],
   "source": [
    "Obj.modify(1,0,3653,0,8000)\n",
    "Obj.modify(2,0,3653,0,9000)\n",
    "Obj.modify(3,0,3653,0,10000)"
   ]
  },
  {
   "cell_type": "code",
   "execution_count": 10,
   "metadata": {},
   "outputs": [
    {
     "name": "stdout",
     "output_type": "stream",
     "text": [
      "Wall time: 2min 6s\n"
     ]
    }
   ],
   "source": [
    "%%time\n",
    "for u,v,n in Obj.G.edges:\n",
    "    if not Obj.G.adj[u][v][n]['Facilities']:\n",
    "        continue\n",
    "    for f in Obj.G.edges[u,v,n]['Facilities']:\n",
    "        radius=randint(5000,40000)\n",
    "        Obj.modify(f.ident,u,v,n,radius)"
   ]
  },
  {
   "cell_type": "code",
   "execution_count": 22,
   "metadata": {},
   "outputs": [
    {
     "name": "stdout",
     "output_type": "stream",
     "text": [
      "Wall time: 1min 40s\n"
     ]
    }
   ],
   "source": [
    "%%time\n",
    "for u,v,n in Obj.G.edges:\n",
    "    if not Obj.G.adj[u][v][n]['Facilities']:\n",
    "        continue\n",
    "    for f in Obj.G.edges[u,v,n]['Facilities']:\n",
    "        Obj.delete_facility(u,v,n,f.ident)"
   ]
  },
  {
   "cell_type": "code",
   "execution_count": null,
   "metadata": {},
   "outputs": [],
   "source": []
  }
 ],
 "metadata": {
  "kernelspec": {
   "display_name": "Python(ox)",
   "language": "python",
   "name": "ox"
  },
  "language_info": {
   "codemirror_mode": {
    "name": "ipython",
    "version": 3
   },
   "file_extension": ".py",
   "mimetype": "text/x-python",
   "name": "python",
   "nbconvert_exporter": "python",
   "pygments_lexer": "ipython3",
   "version": "3.9.0"
  }
 },
 "nbformat": 4,
 "nbformat_minor": 4
}
