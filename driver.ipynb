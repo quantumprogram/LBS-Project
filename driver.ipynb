{
 "cells": [
  {
   "cell_type": "code",
   "execution_count": null,
   "metadata": {},
   "outputs": [],
   "source": [
    "from Advertisement import *"
   ]
  },
  {
   "cell_type": "code",
   "execution_count": null,
   "metadata": {},
   "outputs": [],
   "source": [
    "Obj=Advertisement()"
   ]
  },
  {
   "cell_type": "code",
   "execution_count": null,
   "metadata": {},
   "outputs": [],
   "source": [
    "Obj.add_facility(0,3653,0,1,8000)\n",
    "Obj.add_facility(0,3653,0,2,9000)\n",
    "Obj.add_facility(0,3653,0,3,10000)\n",
    "Obj.add_facility(2,115,0,4,8000)\n",
    "Obj.add_facility(2,115,0,5,13000)\n",
    "Obj.add_facility(0,7,0,6,2000)"
   ]
  },
  {
   "cell_type": "code",
   "execution_count": null,
   "metadata": {},
   "outputs": [],
   "source": [
    "for u,v,n in Obj.G.edges:\n",
    "    #if len(Obj.G.edges[u,v,n]['relevantR'])>0:\n",
    "    print(u,v,n,Obj.G.edges[u,v,n]['relevantR'])\n",
    "    print(u,v,n,Obj.G.edges[u,v,n]['relevant'])"
   ]
  },
  {
   "cell_type": "code",
   "execution_count": null,
   "metadata": {},
   "outputs": [],
   "source": [
    "Obj.delete_facility(0,3653,0,2)"
   ]
  },
  {
   "cell_type": "code",
   "execution_count": null,
   "metadata": {},
   "outputs": [],
   "source": [
    "Obj.modify(1,0,3653,0,8000)\n",
    "Obj.modify(2,0,3653,0,9000)\n",
    "Obj.modify(3,0,3653,0,10000)"
   ]
  }
 ],
 "metadata": {
  "kernelspec": {
   "display_name": "Python(ox)",
   "language": "python",
   "name": "ox"
  },
  "language_info": {
   "codemirror_mode": {
    "name": "ipython",
    "version": 3
   },
   "file_extension": ".py",
   "mimetype": "text/x-python",
   "name": "python",
   "nbconvert_exporter": "python",
   "pygments_lexer": "ipython3",
   "version": "3.9.0"
  }
 },
 "nbformat": 4,
 "nbformat_minor": 4
}
