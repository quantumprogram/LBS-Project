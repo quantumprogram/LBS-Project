{
 "cells": [
  {
   "cell_type": "code",
   "execution_count": null,
   "metadata": {},
   "outputs": [],
   "source": [
    "from constants import *\n",
    "from Facility import *\n",
    "from add_facilities import *\n",
    "\n",
    "\n",
    "H=add_facilities(north, south, east, west)\n"
   ]
  },
  {
   "cell_type": "code",
   "execution_count": null,
   "metadata": {},
   "outputs": [],
   "source": [
    "paths=[]\n",
    "for i in H.nodes: \n",
    "    paths.append(nx.single_source_dijkstra_path_length(H,i,weight='length',cutoff=10000))"
   ]
  },
  {
   "cell_type": "code",
   "execution_count": null,
   "metadata": {},
   "outputs": [],
   "source": [
    "print(paths[6])"
   ]
  }
 ],
 "metadata": {
  "kernelspec": {
   "display_name": "Python(ox)",
   "language": "python",
   "name": "ox"
  },
  "language_info": {
   "codemirror_mode": {
    "name": "ipython",
    "version": 3
   },
   "file_extension": ".py",
   "mimetype": "text/x-python",
   "name": "python",
   "nbconvert_exporter": "python",
   "pygments_lexer": "ipython3",
   "version": "3.9.0"
  }
 },
 "nbformat": 4,
 "nbformat_minor": 4
}
