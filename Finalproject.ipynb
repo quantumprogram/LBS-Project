{
 "cells": [
  {
   "cell_type": "code",
   "execution_count": null,
   "metadata": {},
   "outputs": [],
   "source": [
    "import osmnx as ox\n",
    "from Facility import *\n",
    "import networkx as nx\n",
    "from constants import *"
   ]
  },
  {
   "cell_type": "code",
   "execution_count": null,
   "metadata": {},
   "outputs": [],
   "source": [
    "class Advertisement:\n",
    "    def __init__(self):\n",
    "        self.G=ox.graph_from_bbox(north, south, east, west, network_type='drive')\n",
    "        self.G=nx.convert_node_labels_to_integers(self.G) \n",
    "        self.all_pair_short()\n",
    "        self.add_structure() \n",
    "    def all_pair_short(self):\n",
    "        self.paths=[]\n",
    "        for i in self.G.nodes:\n",
    "            self.paths.append(nx.single_source_dijkstra_path_length(self.G,i,weight='length',cutoff=50000))\n",
    "    def add_structure(self):\n",
    "        for u,v,n in self.G.edges:\n",
    "            self.G.edges[u,v,n]['Facilities']=[]\n",
    "            self.G.edges[u,v,n]['relevant']={}\n",
    "            self.G.edges[u,v,n]['relevantR']={}\n",
    "    def add_facility(self,u,v,n,R):\n",
    "        if not self.G.has_edge(u,v,n):\n",
    "            return\n",
    "        self.G.edges[u,v,n]['Facilities'].append(Facility(R))\n",
    "        self.G.edges[u,v,n]['Facilities'].sort(key=lambda x: x.R, reverse=True)\n",
    "             \n",
    "        if len(self.G.edges[u,v,n]['Facilities'])==1:\n",
    "            self.preprocessR(u,v,n)\n",
    "        if R<self.G.edges[u,v,n]['Facilities'][0].R:\n",
    "            return    \n",
    "        self.preprocess(u,v,n)    \n",
    "    \n",
    "    #def get_key(obj):\n",
    "    #    return obj.R\n",
    "    def preprocessR(self,u,v,n):\n",
    "        RTD=0\n",
    "        Re=50000\n",
    "        for w in self.paths[v]:\n",
    "            for z in self.G.adj[w]:\n",
    "                for n1 in self.G.adj[w][z]:\n",
    "                    RTD=self.G.edges[w,z,n1]['length']+self.G.edges[u,v,n]['length']+self.paths[v][w]\n",
    "                    if u in self.paths[z].keys():\n",
    "                        RTD+=self.paths[z][v]\n",
    "                        if RTD<=Re and (u,v,n) not in self.G.edges[w,z,n1]['relevantR'].keys():\n",
    "                            self.G.edges[w,z,n1]['relevantR'].update({(u,v,n):RTD})\n",
    "                            \n",
    "                            \n",
    "    def preprocess(self,u,v,n):\n",
    "        RTD=0\n",
    "        Re=self.G.adj[u][v][n]['Facilities'][0].R\n",
    "        for w in self.paths[v]:\n",
    "            for z in self.G.adj[w]:\n",
    "                for n1 in self.G.adj[w][z]:\n",
    "                    RTD=self.G.edges[w,z,n1]['length']+self.G.edges[u,v,n]['length']+self.paths[v][w]\n",
    "                    if u in self.paths[z].keys():\n",
    "                        RTD+=self.paths[z][v]\n",
    "                        if RTD<=Re and (u,v,n) not in self.G.edges[w,z,n1]['relevant'].keys():\n",
    "                            self.G.edges[w,z,n1]['relevant'].update({(u,v,n):RTD})\n",
    "                            del self.G.edges[w,z,n1]['relevantR'][(u,v,n)]\n",
    "                            \n",
    "    \n",
    "    def query(self,u,v,n,l):\n",
    "        for w,z,n1 in self.G.edges[u,v,n]['relevant'].keys():\n",
    "            distance= self.G.edges[u,v,n]['relevant'][(w,z,n1)]\n",
    "            for i in self.G.adj[w][z][n1]['Facilities']:\n",
    "                Re=i.R\n",
    "                if distance>Re:\n",
    "                    break\n",
    "                print(Re,distance)    \n",
    "         \n",
    "            "
   ]
  },
  {
   "cell_type": "code",
   "execution_count": null,
   "metadata": {},
   "outputs": [],
   "source": [
    "Obj=Advertisement() "
   ]
  },
  {
   "cell_type": "code",
   "execution_count": null,
   "metadata": {},
   "outputs": [],
   "source": [
    "Obj.add_facility(0,3653,0,10000)\n",
    "Obj.add_facility(0,3653,0,11000)\n",
    "Obj.add_facility(0,3653,0,12000)\n",
    "Obj.add_facility(2,115,0,8000)\n",
    "Obj.add_facility(2,115,0,13000)\n",
    "Obj.add_facility(0,7,0,2000)"
   ]
  },
  {
   "cell_type": "code",
   "execution_count": null,
   "metadata": {},
   "outputs": [],
   "source": [
    "for u,v,n in Obj.G.edges:\n",
    "    #if len(Obj.G.edges[u,v,n]['relevantR'])>0:\n",
    "    print(u,v,n,Obj.G.edges[u,v,n]['relevantR'])\n",
    "    print(u,v,n,Obj.G.edges[u,v,n]['relevant'])"
   ]
  },
  {
   "cell_type": "code",
   "execution_count": null,
   "metadata": {},
   "outputs": [],
   "source": []
  },
  {
   "cell_type": "code",
   "execution_count": null,
   "metadata": {},
   "outputs": [],
   "source": [
    "print(Obj.G.edges[0,7,0])"
   ]
  },
  {
   "cell_type": "code",
   "execution_count": null,
   "metadata": {},
   "outputs": [],
   "source": [
    "Obj.add_facility(0,3653,0,28000,30)\n",
    "Obj.add_facility(0,3653,0,36000,30)\n",
    "Obj.add_facility(0,3653,0,20000,30)\n",
    "Obj.add_facility(2,115,0,20000,30)\n",
    "Obj.add_facility(2,115,0,40000,30)\n"
   ]
  },
  {
   "cell_type": "code",
   "execution_count": null,
   "metadata": {},
   "outputs": [],
   "source": []
  },
  {
   "cell_type": "code",
   "execution_count": null,
   "metadata": {},
   "outputs": [],
   "source": [
    "sorted(dict.items(),key=lambda x:x[1],reverse=True)"
   ]
  },
  {
   "cell_type": "code",
   "execution_count": null,
   "metadata": {},
   "outputs": [],
   "source": [
    "\n"
   ]
  },
  {
   "cell_type": "code",
   "execution_count": null,
   "metadata": {},
   "outputs": [],
   "source": [
    "Obj.query(0,7,0,7)"
   ]
  },
  {
   "cell_type": "code",
   "execution_count": null,
   "metadata": {},
   "outputs": [],
   "source": [
    "def user_register(Obj,u,v,n):\n",
    "    Re=min(Obj.G.edges[u,v,n]['relevant'].values())\n",
    "    for w in self.paths[v]:\n",
    "        for z in self.G.adj[w]:\n",
    "            for n1 in self.G.adj[w][z]:\n",
    "                RTD=self.G.edges[w,z,n1]['length']+self.G.edges[u,v,n]['length']+self.paths[v][w]\n",
    "                if u in self.paths[z].keys():\n",
    "                    RTD+=self.paths[z][v]\n",
    "                    if RTD<Re and (u,v,n) not in self.G.edges[w,z,n1]['relevant'].keys():\n",
    "                        self.G.edges[w,z,n1]['relevantU']+=1"
   ]
  },
  {
   "cell_type": "code",
   "execution_count": null,
   "metadata": {},
   "outputs": [],
   "source": [
    "def user_register(Obj,u,v,n,no):\n",
    "    Obj.G.edges[u,v,n]['Users']+=no\n",
    "    Re=min(Obj.G.edges[u,v,n]['relevant'].values())\n",
    "    for w in Obj.paths[v]:\n",
    "        for z in Obj.G.adj[w]:\n",
    "            for n1 in Obj.G.adj[w][z]:\n",
    "                RTD=Obj.G.edges[w,z,n1]['length']+Obj.G.edges[u,v,n]['length']+Obj.paths[v][w]\n",
    "                if u in Obj.paths[z].keys():\n",
    "                    RTD+=Obj.paths[z][v]\n",
    "                    if RTD<Re and (u,v,n): \n",
    "                        Obj.G.edges[w,z,n1]['relevantU']+=no\n",
    "def user_dereister(Obj,u,v,n,no):\n",
    "    Obj.G.edges[u,v,n]['Users']-=no\n",
    "    Re=min(Obj.G.edges[u,v,n]['relevant'].values())\n",
    "    for w in Obj.paths[v]:\n",
    "        for z in Obj.G.adj[w]:\n",
    "            for n1 in Obj.G.adj[w][z]:\n",
    "                RTD=Obj.G.edges[w,z,n1]['length']+Obj.G.edges[u,v,n]['length']+Obj.paths[v][w]\n",
    "                if u in Obj.paths[z].keys():\n",
    "                    RTD+=Obj.paths[z][v]\n",
    "                    if RTD<Re and (u,v,n): \n",
    "                        Obj.G.edges[w,z,n1]['relevantU']+=no\n",
    "                        \n",
    "def user_query(Obj,u,v,n):\n",
    "    return Obj.G.edges[u,v,n]['relevantU']"
   ]
  },
  {
   "cell_type": "code",
   "execution_count": null,
   "metadata": {},
   "outputs": [],
   "source": [
    "user_register(Obj,0,7,0)"
   ]
  },
  {
   "cell_type": "code",
   "execution_count": null,
   "metadata": {},
   "outputs": [],
   "source": [
    "user_query(Obj,0,3653,0)"
   ]
  },
  {
   "cell_type": "code",
   "execution_count": null,
   "metadata": {},
   "outputs": [],
   "source": []
  },
  {
   "cell_type": "code",
   "execution_count": null,
   "metadata": {},
   "outputs": [],
   "source": [
    "\n"
   ]
  },
  {
   "cell_type": "code",
   "execution_count": null,
   "metadata": {},
   "outputs": [],
   "source": []
  }
 ],
 "metadata": {
  "kernelspec": {
   "display_name": "Python(ox)",
   "language": "python",
   "name": "ox"
  },
  "language_info": {
   "codemirror_mode": {
    "name": "ipython",
    "version": 3
   },
   "file_extension": ".py",
   "mimetype": "text/x-python",
   "name": "python",
   "nbconvert_exporter": "python",
   "pygments_lexer": "ipython3",
   "version": "3.9.0"
  }
 },
 "nbformat": 4,
 "nbformat_minor": 4
}
